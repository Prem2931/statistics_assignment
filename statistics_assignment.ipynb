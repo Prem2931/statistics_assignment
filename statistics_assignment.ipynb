{
 "cells": [
  {
   "cell_type": "code",
   "execution_count": 1,
   "id": "d3b2e110",
   "metadata": {},
   "outputs": [],
   "source": [
    "# 1. Explain the different types of data (qualitative and quantitative) and provide examples of each. Discuss\n",
    "# nominal, ordinal, interval, and ratio scales.\n",
    "\n",
    "# Ans>>\n",
    "# Different types of data:\n",
    "\n",
    "# Qualitative (categorical) data: Descriptive and non-numerical, such as color or type.\n",
    "# Nominal scale: Categories with no logical order (e.g., gender, eye color).\n",
    "# Ordinal scale: Categories with a meaningful order but no fixed intervals (e.g., rankings like 1st, 2nd, 3rd).\n",
    "\n",
    "# Quantitative (numerical) data: Data that can be measured.\n",
    "# Interval scale: Numerical data with equal intervals but no true zero (e.g., temperature in Celsius).\n",
    "# Ratio scale: Like interval data but with a meaningful zero (e.g., weight, height)."
   ]
  },
  {
   "cell_type": "code",
   "execution_count": 2,
   "id": "8b891818",
   "metadata": {},
   "outputs": [],
   "source": [
    "# 2. What are the measures of central tendency, and when should you use each? Discuss the mean, median,\n",
    "# and mode with examples and situations where each is appropriate.\n",
    "\n",
    "# Ans>>\n",
    "# Mean: The average of the dataset. Used when data is evenly distributed.\n",
    "# Median: The middle value in a dataset. Useful for skewed data.\n",
    "# Mode: The most frequent value. Used for categorical data."
   ]
  },
  {
   "cell_type": "code",
   "execution_count": 3,
   "id": "4e286ec1",
   "metadata": {},
   "outputs": [],
   "source": [
    "# 3. Explain the concept of dispersion. How do variance and standard deviation measure the spread of data?\n",
    "\n",
    "# Ans>>\n",
    "# Variance: The average squared deviation from the mean.\n",
    "# Standard deviation: The square root of variance, showing the spread of data points."
   ]
  },
  {
   "cell_type": "code",
   "execution_count": 4,
   "id": "5925ca29",
   "metadata": {},
   "outputs": [],
   "source": [
    "# 4. What is a box plot, and what can it tell you about the distribution of data?\n",
    "\n",
    "# Ans>>\n",
    "# A graphical representation that displays the minimum, first quartile, median, third quartile, and maximum. \n",
    "# It helps identify outliers and the distribution's spread"
   ]
  },
  {
   "cell_type": "code",
   "execution_count": 5,
   "id": "e3c34646",
   "metadata": {},
   "outputs": [],
   "source": [
    "# 5. Discuss the role of random sampling in making inferences about populations.\n",
    "\n",
    "# Ans>>\n",
    "# Random sampling ensures that every member of a population has an equal chance of being selected, \n",
    "# which helps in making unbiased inferences about populations."
   ]
  },
  {
   "cell_type": "code",
   "execution_count": 6,
   "id": "f2bb9a28",
   "metadata": {},
   "outputs": [],
   "source": [
    "# 6. Explain the concept of skewness and its types. How does skewness affect the interpretation of data?\n",
    "\n",
    "# Ans>>\n",
    "# Skewness measures the asymmetry of the data distribution. Positive skew means the tail is on the right; \n",
    "# negative skew indicates the tail is on the left."
   ]
  },
  {
   "cell_type": "code",
   "execution_count": 7,
   "id": "ede8947f",
   "metadata": {},
   "outputs": [],
   "source": [
    "# 7. What is the interquartile range (IQR), and how is it used to detect outliers?\n",
    "\n",
    "# Ans>>\n",
    "# The IQR is the range between the first and third quartiles (Q3-Q1). It is used to detect outliers, as values falling below \n",
    "# Q1 - 1.5*IQR or above Q3 + 1.5*IQR are considered outliers."
   ]
  },
  {
   "cell_type": "code",
   "execution_count": 8,
   "id": "9a7107c4",
   "metadata": {},
   "outputs": [],
   "source": [
    "# 8. Discuss the conditions under which the binomial distribution is used.\n",
    "\n",
    "# Ans>>\n",
    "# Used for experiments with two outcomes (success or failure), a fixed number of trials, and constant probability of success."
   ]
  },
  {
   "cell_type": "code",
   "execution_count": 9,
   "id": "8685c433",
   "metadata": {},
   "outputs": [],
   "source": [
    "# 9. Explain the properties of the normal distribution and the empirical rule (68-95-99.7 rule).\n",
    "\n",
    "# Ans>>\n",
    "# The normal distribution is symmetric with a bell shape. The empirical rule states that in a normal distribution:\n",
    "# 68% of data falls within 1 standard deviation of the mean.\n",
    "# 95% within 2 standard deviations.\n",
    "# 99.7% within 3 standard deviations."
   ]
  },
  {
   "cell_type": "code",
   "execution_count": 10,
   "id": "1bc5cbe8",
   "metadata": {},
   "outputs": [],
   "source": [
    "# 10. Provide a real-life example of a Poisson process and calculate the probability for a specific event.\n",
    "\n",
    "# Ans>>\n",
    "# A process where events occur randomly over a fixed interval. For example, the number of cars passing through a toll booth in an hour.\n",
    "# The probability for a specific event can be calculated using the Poisson formula."
   ]
  },
  {
   "cell_type": "code",
   "execution_count": 11,
   "id": "0742c376",
   "metadata": {},
   "outputs": [],
   "source": [
    "# 11. Explain what a random variable is and differentiate between discrete and continuous random variables.?\n",
    "\n",
    "# Ans>>\n",
    "# A variable representing possible outcomes of a random phenomenon.\n",
    "# Discrete random variable: Takes specific values (e.g., number of heads in coin flips).\n",
    "# Continuous random variable: Can take any value within a range (e.g., time taken to complete a task)."
   ]
  },
  {
   "cell_type": "code",
   "execution_count": null,
   "id": "cecea06d",
   "metadata": {},
   "outputs": [],
   "source": [
    "# 12. Provide an example dataset, calculate both covariance and correlation, and interpret the results.\n",
    "\n",
    "# Ans>>\n",
    "# Covariance measures the direction of the relationship between two variables.\n",
    "# Correlation quantifies the strength and direction of the linear relationship. Correlation is standardized, while covariance isn't.\n"
   ]
  }
 ],
 "metadata": {
  "kernelspec": {
   "display_name": "Python 3 (ipykernel)",
   "language": "python",
   "name": "python3"
  },
  "language_info": {
   "codemirror_mode": {
    "name": "ipython",
    "version": 3
   },
   "file_extension": ".py",
   "mimetype": "text/x-python",
   "name": "python",
   "nbconvert_exporter": "python",
   "pygments_lexer": "ipython3",
   "version": "3.11.5"
  }
 },
 "nbformat": 4,
 "nbformat_minor": 5
}
